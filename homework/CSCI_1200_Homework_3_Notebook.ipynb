{
  "cells": [
    {
      "cell_type": "markdown",
      "metadata": {
        "id": "view-in-github",
        "colab_type": "text"
      },
      "source": [
        "<a href=\"https://colab.research.google.com/github/BillWrightCUProf/CSCI1200/blob/main/homework/CSCI_1200_Homework_3_Notebook.ipynb\" target=\"_parent\"><img src=\"https://colab.research.google.com/assets/colab-badge.svg\" alt=\"Open In Colab\"/></a>"
      ]
    },
    {
      "cell_type": "markdown",
      "id": "d5fe5870",
      "metadata": {
        "id": "d5fe5870"
      },
      "source": [
        "### Computer Science 1200\n",
        "Homework 3\\\n",
        "Available Sept 15\\\n",
        "Due Sept 22 at 11:59 pm\\\n",
        "43 points"
      ]
    },
    {
      "cell_type": "markdown",
      "id": "a8f6db35",
      "metadata": {
        "id": "a8f6db35"
      },
      "source": [
        "**Instructions**.  Upload this notebook to the colabs site and create solutions in the space provided below each problem.  You may add extra cells.  If you do, please clearly mark your solution so that the grader doesn't have to guess which cell contains the answer.  Once you have completed the problems, save the notebook and upload it to the submit box for Homework 3 in Canvas.  Remember that a Jupyter notebook has a file extension of .ipynb"
      ]
    },
    {
      "cell_type": "markdown",
      "id": "1d2602b0",
      "metadata": {
        "id": "1d2602b0"
      },
      "source": [
        "***\n",
        "### Problem 1 (5 pts)\n",
        "Write a program that prompts a user for their name and then prints \"Hello \" plus their name 10 times to the screen using a `for` loop."
      ]
    },
    {
      "cell_type": "code",
      "execution_count": null,
      "id": "ded1ff5e",
      "metadata": {
        "is_executing": true,
        "id": "ded1ff5e"
      },
      "outputs": [],
      "source": [
        "# Put your code here\n"
      ]
    },
    {
      "cell_type": "markdown",
      "id": "a5d447a2",
      "metadata": {
        "id": "a5d447a2"
      },
      "source": [
        "Your solution should be similar to this (assuming your name is Fred):\n",
        "```\n",
        "What is your name? Fred\n",
        "Hello Fred\n",
        "Hello Fred\n",
        "Hello Fred\n",
        "Hello Fred\n",
        "Hello Fred\n",
        "Hello Fred\n",
        "Hello Fred\n",
        "Hello Fred\n",
        "Hello Fred\n",
        "Hello Fred\n",
        "```\n"
      ]
    },
    {
      "cell_type": "markdown",
      "id": "087f2301",
      "metadata": {
        "id": "087f2301"
      },
      "source": [
        "***\n",
        "### Problem 2 (8 pts)\n",
        "Using a `for` loop, add up all of the numbers from 1 to 50.  Print the result along with a string the desribes how the number was calculated.  "
      ]
    },
    {
      "cell_type": "code",
      "execution_count": null,
      "id": "d969e096",
      "metadata": {
        "id": "d969e096"
      },
      "outputs": [],
      "source": [
        "# Put your code here\n"
      ]
    },
    {
      "cell_type": "markdown",
      "id": "24104255",
      "metadata": {
        "id": "24104255"
      },
      "source": [
        "Your solution should be similar to this:\n",
        "```\n",
        "The sum of integers from 1 to 50 is: 1275\n",
        "```"
      ]
    },
    {
      "cell_type": "markdown",
      "id": "c8539539",
      "metadata": {
        "id": "c8539539"
      },
      "source": [
        "***\n",
        "### Problem 3 (15 pts)\n",
        "The formula for calulating the sum of numbers from 0 or 1 to n is n\\*(n+1)/2.\\\n",
        "For example, if n=4, 0+1+2+3+4= 10, n\\*(n+1)/2= 4\\*(4+1)\\2= 4\\*5/2= 20/2=10\\\n",
        "Write a program that calculates this by using a `for` loop and using the formula n\\*(n+1)/2.\n",
        "\n",
        "Run the program for n= 1000 and visually compare the two methods.  Do they match?\\\n",
        "Print the results using clearly labeled strings for each number and save this result\\\n",
        "in your notebook.\n",
        "\n",
        "> **Hint**: Don't forget that the limit on the range() function is 1 more than the last number you want in your sum"
      ]
    },
    {
      "cell_type": "code",
      "execution_count": null,
      "id": "e2ec56df",
      "metadata": {
        "id": "e2ec56df"
      },
      "outputs": [],
      "source": [
        "# The following lines of code may be useful\n",
        "limit=input(\"Enter a limit for the sum of numbers? \")\n",
        "limit_num=int(limit)\n",
        "calc=limit_num*(limit_num+1)/2"
      ]
    },
    {
      "cell_type": "code",
      "execution_count": null,
      "id": "31c0b544",
      "metadata": {
        "id": "31c0b544"
      },
      "outputs": [],
      "source": [
        "# Put your code here\n"
      ]
    },
    {
      "cell_type": "markdown",
      "id": "0656311b",
      "metadata": {
        "id": "0656311b"
      },
      "source": [
        "Your solution should be similar to this:\n",
        "```\n",
        "Enter a limit for the sum of numbers? 4\n",
        "By for loop, the sum is 10\n",
        "By calculation, the sum is 10.0\n",
        "```"
      ]
    },
    {
      "cell_type": "markdown",
      "id": "eb354f53",
      "metadata": {
        "id": "eb354f53"
      },
      "source": [
        "***\n",
        "### Problem 4 (15 pts)\n",
        "Write a function that returns the sum when given the limit as an argument.  Your function can use either a `for` loop or the formula to find the sum.  Write a program that prompts the user for a value, calls the function and prints the result.  Test this function on the value of 173. Print your results with explanatory labels"
      ]
    },
    {
      "cell_type": "code",
      "execution_count": null,
      "id": "1aed31c7",
      "metadata": {
        "id": "1aed31c7"
      },
      "outputs": [],
      "source": [
        "# Put your code here:\n"
      ]
    },
    {
      "cell_type": "markdown",
      "id": "8786f6cb",
      "metadata": {
        "id": "8786f6cb"
      },
      "source": [
        "Your solution should be similar to this:\n",
        "```\n",
        "Enter the limit for the sum: 1000\n",
        "The sum is: 500500.0\n",
        "```"
      ]
    },
    {
      "cell_type": "markdown",
      "source": [
        "***\n",
        "### Problem 5 (20 pts)\n",
        "Write a function that takes a string argument and in integer argument. It should first print out the length of the string and then print out the string itself with the integer number of spaces between each letter. Name this functio spread_print. Then call your function. An example call should look like this:\n",
        "\n",
        "```python\n",
        "spread_print(\"Hello\", 3)\n",
        "```\n",
        "And the result should look like this:\n",
        "```bash\n",
        "The length of the string is: 5\n",
        "H   e   l   l   o\n",
        "```\n",
        "Test it on the following strings: \"Hello\", \"Python\", \"Jupyter\".\n",
        "\n",
        "Think about the things you need to do for this function BEFORE writing anything. Take small steps. Things you need to do:\n",
        "\n",
        "1. Be able to print n spaces, where n in the value passed into our function.\n",
        "2. Be able to print one letter at a time.\n",
        "3. Loop through each letter of the word.\n",
        "\n",
        "> **Hint**: you can duplicate strings by multplying them:"
      ],
      "metadata": {
        "collapsed": false,
        "id": "Kw4fw96XQsp1"
      },
      "id": "Kw4fw96XQsp1"
    },
    {
      "cell_type": "code",
      "source": [
        "'hi' * 3"
      ],
      "metadata": {
        "id": "cLTBKeZKWbIz"
      },
      "id": "cLTBKeZKWbIz",
      "execution_count": null,
      "outputs": []
    },
    {
      "cell_type": "code",
      "execution_count": null,
      "outputs": [],
      "source": [
        "# The following lines of code may be useful\n",
        "# To print just a space, without a carriage return, use the following\n",
        "print(\"no return printed\", end=\"\")\n",
        "print(\".  Or here..\", end=\"\")\n",
        "# You'll want this line of code inside your loop. You'll use the same technique to print just one letter without a carriage return.\n",
        "# To then print a carriage return, use the following:\n",
        "print(' Now we get a return')"
      ],
      "metadata": {
        "id": "aYWW0asVQsp2"
      },
      "id": "aYWW0asVQsp2"
    },
    {
      "cell_type": "code",
      "source": [
        "# Put your code here\n"
      ],
      "metadata": {
        "id": "XQpMxpyLeqa0"
      },
      "id": "XQpMxpyLeqa0",
      "execution_count": null,
      "outputs": []
    },
    {
      "cell_type": "markdown",
      "source": [
        "***\n",
        "### Problem 6 - extra credit (20 pts)\n",
        "Write a function switches the case of each letter in a passed in string. For example, if the string is \"Hello\", the function should return \"hELLO\".  If the string is \"Python\", the function should return \"pYTHON\".  If the string is \"Jupyter\", the function should return \"jUPYTER\".  Call your function on the following strings: \"Hello\", \"Python\", \"Jupyter\".\n",
        "\n",
        "HINT: Inside of your `for` loop, you'll have an `if` statement that checks to see if the letter is upper case or not."
      ],
      "metadata": {
        "collapsed": false,
        "id": "XBSvDpALQsp2"
      },
      "id": "XBSvDpALQsp2"
    },
    {
      "cell_type": "code",
      "execution_count": null,
      "outputs": [],
      "source": [
        "# The following lines of code may be useful\n",
        "# To check if a letter is upper case, use the following\n",
        "letter=\"A\"\n",
        "if letter.isupper():\n",
        "    print(\"The letter is upper case\")\n",
        "else:\n",
        "    print(\"The letter is lower case\")"
      ],
      "metadata": {
        "ExecuteTime": {
          "end_time": "2023-09-14T18:11:05.580515Z",
          "start_time": "2023-09-14T18:11:05.572865Z"
        },
        "id": "qe34_569Qsp2"
      },
      "id": "qe34_569Qsp2"
    },
    {
      "cell_type": "code",
      "execution_count": null,
      "outputs": [],
      "source": [
        "# To convert a letter to upper case, use the following\n",
        "letter=\"a\"\n",
        "letter=letter.upper()\n",
        "print(letter)"
      ],
      "metadata": {
        "ExecuteTime": {
          "end_time": "2023-09-14T18:11:03.086561Z",
          "start_time": "2023-09-14T18:11:03.080100Z"
        },
        "id": "Qed6uwk2Qsp3"
      },
      "id": "Qed6uwk2Qsp3"
    },
    {
      "cell_type": "code",
      "execution_count": null,
      "outputs": [],
      "source": [
        "# To convert a letter to lower case, use the following\n",
        "letter=\"A\"\n",
        "letter=letter.lower()\n",
        "print(letter)"
      ],
      "metadata": {
        "ExecuteTime": {
          "end_time": "2023-09-14T18:11:09.793650Z",
          "start_time": "2023-09-14T18:11:09.780069Z"
        },
        "id": "nZigSOt2Qsp3"
      },
      "id": "nZigSOt2Qsp3"
    },
    {
      "cell_type": "code",
      "execution_count": null,
      "outputs": [],
      "source": [
        "# Put your program here:\n"
      ],
      "metadata": {
        "id": "UvLW-AQPQsp3"
      },
      "id": "UvLW-AQPQsp3"
    },
    {
      "cell_type": "markdown",
      "id": "5f615fad",
      "metadata": {
        "id": "5f615fad"
      },
      "source": [
        "### Save this notebook showing your results and upload it to Homework 3 in Canvas"
      ]
    }
  ],
  "metadata": {
    "kernelspec": {
      "display_name": "Python 3 (ipykernel)",
      "language": "python",
      "name": "python3"
    },
    "language_info": {
      "codemirror_mode": {
        "name": "ipython",
        "version": 3
      },
      "file_extension": ".py",
      "mimetype": "text/x-python",
      "name": "python",
      "nbconvert_exporter": "python",
      "pygments_lexer": "ipython3",
      "version": "3.9.12"
    },
    "colab": {
      "provenance": [],
      "include_colab_link": true
    }
  },
  "nbformat": 4,
  "nbformat_minor": 5
}